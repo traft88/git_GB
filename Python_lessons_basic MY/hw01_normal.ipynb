{
 "cells": [
  {
   "cell_type": "code",
   "execution_count": 1,
   "metadata": {},
   "outputs": [],
   "source": [
    "__author__ = 'Вторушин Марк Викторович'\n",
    "\n",
    "# Задача-1: Дано произвольное целое число, вывести самую большую цифру этого числа.\n",
    "# Например, дается x = 58375.\n",
    "# Нужно вывести максимальную цифру в данном числе, т.е. 8.\n",
    "# Подразумевается, что мы не знаем это число заранее.\n",
    "# Число приходит в виде целого беззнакового.\n",
    "\n",
    "\n",
    "# Задача-2: Исходные значения двух переменных запросить у пользователя.\n",
    "# Поменять значения переменных местами. Вывести новые значения на экран.\n",
    "# Решите задачу, используя только две переменные.\n",
    "\n",
    "\n",
    "# Задача-3: Напишите программу, вычисляющую корни квадратного уравнения вида\n",
    "# ax2 + bx + c = 0.\n",
    "# Для вычисления квадратного корня воспользуйтесь функцией sqrt() модуля math\n",
    "# import math\n",
    "# math.sqrt(4) - вычисляет корень числа 4"
   ]
  },
  {
   "cell_type": "markdown",
   "metadata": {},
   "source": [
    "Решение задачи №1"
   ]
  },
  {
   "cell_type": "code",
   "execution_count": 57,
   "metadata": {},
   "outputs": [
    {
     "name": "stdout",
     "output_type": "stream",
     "text": [
      "Введите целое число: 8537\n",
      "Самое большое число:  8\n"
     ]
    }
   ],
   "source": [
    "z = 0\n",
    "y = 0\n",
    "x = int(input('Введите целое число: ', ))\n",
    "while x >= 1:\n",
    "    x = x / 10\n",
    "    z = (x - int(x)) * 10\n",
    "    if z > y:\n",
    "        y = int(z)\n",
    "    else:\n",
    "        pass\n",
    "    int(x)\n",
    "print(\"Самое большое число: \", y)\n",
    "\n",
    "    "
   ]
  },
  {
   "cell_type": "markdown",
   "metadata": {},
   "source": [
    "Решение задачи №2"
   ]
  },
  {
   "cell_type": "code",
   "execution_count": 58,
   "metadata": {},
   "outputs": [
    {
     "name": "stdout",
     "output_type": "stream",
     "text": [
      "Введите переменную А: 1\n",
      "Введите переменную В: 8\n",
      "Меняем местами значение А и В\n",
      "Теперь значение А:  8\n",
      "А значение В:  1\n"
     ]
    }
   ],
   "source": [
    "a = input('Введите переменную А: ')\n",
    "b = input('Введите переменную В: ')\n",
    "print ('Меняем местами значение А и В')\n",
    "a,b = b,a\n",
    "print ('Теперь значение А: ', a)\n",
    "print ('А значение В: ', b)"
   ]
  },
  {
   "cell_type": "markdown",
   "metadata": {},
   "source": [
    "Решение задачи №3"
   ]
  },
  {
   "cell_type": "code",
   "execution_count": 70,
   "metadata": {},
   "outputs": [
    {
     "name": "stdout",
     "output_type": "stream",
     "text": [
      "Введите переменную А: 8\n",
      "Введите переменную В: 4\n",
      "Введите переменную C: 2\n",
      "Корней нет\n"
     ]
    }
   ],
   "source": [
    "import math\n",
    "a = float(input('Введите переменную А: '))\n",
    "b = float(input('Введите переменную В: '))\n",
    "c = float(input('Введите переменную C: ')) \n",
    "d = b**2 - 4 * a * c\n",
    "if d > 0:\n",
    "    x1 = (-b + math.sqrt(d)) / (2 * a)\n",
    "    x2 = (-b - math.sqrt(d)) / (2 * a)\n",
    "    print(\"x1 = %.2f \\nx2 = %.2f\" % (x1, x2))\n",
    "elif d == 0:\n",
    "    x = -b / (2 * a)\n",
    "    print(\"x = %.2f\" % x)\n",
    "else:\n",
    "    print(\"Корней нет\")"
   ]
  }
 ],
 "metadata": {
  "kernelspec": {
   "display_name": "Python 3",
   "language": "python",
   "name": "python3"
  },
  "language_info": {
   "codemirror_mode": {
    "name": "ipython",
    "version": 3
   },
   "file_extension": ".py",
   "mimetype": "text/x-python",
   "name": "python",
   "nbconvert_exporter": "python",
   "pygments_lexer": "ipython3",
   "version": "3.6.5"
  }
 },
 "nbformat": 4,
 "nbformat_minor": 2
}
