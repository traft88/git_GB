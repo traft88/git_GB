{
 "cells": [
  {
   "cell_type": "code",
   "execution_count": 1,
   "metadata": {},
   "outputs": [],
   "source": [
    "__author__ = 'Вторушин Марк Викторович'\n",
    "\n",
    "# Задача-1: Дано произвольное целое число, вывести поочередно цифры исходного числа\n",
    "\n",
    "# код пишем тут...\n",
    "\n",
    "# Задача-2: Исходные значения двух переменных запросить у пользователя.\n",
    "# Поменять значения переменных местами. Вывести новые значения на экран.\n",
    "# Не нужно решать задачу так:\n",
    "# print(\"a = \", b, \"b = \", a) - это неправильное решение!\n",
    "\n",
    "# Задача-3: Запросите у пользователя его возраст.\n",
    "# Если ему есть 18 лет, выведите: \"Доступ разрешен\",\n",
    "# иначе \"Извините, пользование данным ресурсом только с 18 лет\"\n",
    "\n"
   ]
  },
  {
   "cell_type": "markdown",
   "metadata": {},
   "source": [
    "Решение задачи №1"
   ]
  },
  {
   "cell_type": "code",
   "execution_count": 5,
   "metadata": {},
   "outputs": [
    {
     "name": "stdout",
     "output_type": "stream",
     "text": [
      "Введите любое целое число:2525\n",
      "2\n",
      "5\n",
      "2\n",
      "5\n"
     ]
    }
   ],
   "source": [
    "print(*list(input('Введите любое целое число:')),sep = '\\n')"
   ]
  },
  {
   "cell_type": "markdown",
   "metadata": {},
   "source": [
    "Решение задачи №2"
   ]
  },
  {
   "cell_type": "code",
   "execution_count": 4,
   "metadata": {},
   "outputs": [
    {
     "name": "stdout",
     "output_type": "stream",
     "text": [
      "Введите переменную А: 7\n",
      "Введите переменную В: 37\n",
      "Меняем местами значение А и В\n",
      "Теперь значение А:  37\n",
      "А значение В:  7\n"
     ]
    }
   ],
   "source": [
    "a = input('Введите переменную А: ')\n",
    "b = input('Введите переменную В: ')\n",
    "print ('Меняем местами значение А и В')\n",
    "a,b = b,a\n",
    "print ('Теперь значение А: ', a)\n",
    "print ('А значение В: ', b)"
   ]
  },
  {
   "cell_type": "markdown",
   "metadata": {},
   "source": [
    "Решение задачи №3"
   ]
  },
  {
   "cell_type": "code",
   "execution_count": 12,
   "metadata": {},
   "outputs": [
    {
     "name": "stdout",
     "output_type": "stream",
     "text": [
      "Введите свой возраст: 17\n",
      "Извините, пользование данным ресурсом только с 18 лет\n"
     ]
    }
   ],
   "source": [
    "age = int(input('Введите свой возраст: '))\n",
    "access = 0                           \n",
    "if age >= 18:   \n",
    "   print('Доступ разрешен')\n",
    "   access = 1 \n",
    "else:\n",
    "   print('Извините, пользование данным ресурсом только с 18 лет')"
   ]
  }
 ],
 "metadata": {
  "kernelspec": {
   "display_name": "Python 3",
   "language": "python",
   "name": "python3"
  },
  "language_info": {
   "codemirror_mode": {
    "name": "ipython",
    "version": 3
   },
   "file_extension": ".py",
   "mimetype": "text/x-python",
   "name": "python",
   "nbconvert_exporter": "python",
   "pygments_lexer": "ipython3",
   "version": "3.6.5"
  }
 },
 "nbformat": 4,
 "nbformat_minor": 2
}
